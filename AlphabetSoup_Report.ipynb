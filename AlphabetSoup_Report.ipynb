{
 "cells": [
  {
   "cell_type": "markdown",
   "id": "c83873e9",
   "metadata": {},
   "source": [
    "# Overview"
   ]
  },
  {
   "cell_type": "markdown",
   "id": "55c332d3",
   "metadata": {},
   "source": [
    "The purpose of this analysis is to use my knowledge of neural networks and machine learning to predict whether applicants for the Alphabet Soup Foundation would be successful if funded."
   ]
  },
  {
   "cell_type": "markdown",
   "id": "03fef4ce",
   "metadata": {},
   "source": [
    "##  Results"
   ]
  },
  {
   "cell_type": "markdown",
   "id": "fabc8d4a",
   "metadata": {},
   "source": [
    "### Data Preprocessing"
   ]
  },
  {
   "cell_type": "markdown",
   "id": "e7fdfc71",
   "metadata": {},
   "source": [
    "    * The variable 'IS_SUCCESSFUL' was the target for this model"
   ]
  },
  {
   "cell_type": "markdown",
   "id": "1f264741",
   "metadata": {},
   "source": [
    "    * The features of this model would be the other available columns in the dataframe"
   ]
  },
  {
   "cell_type": "markdown",
   "id": "c649eaa6",
   "metadata": {},
   "source": [
    "    * The columns 'EIN' and 'NAME' were dropped as they were not beneficial"
   ]
  },
  {
   "cell_type": "markdown",
   "id": "db6d4b17",
   "metadata": {},
   "source": [
    "### Compiling, Training, and Evaluation"
   ]
  },
  {
   "cell_type": "markdown",
   "id": "8a902e79",
   "metadata": {},
   "source": [
    "    * For this neural network model, there were two different activation functions, a value of 8 chosen for hidden_nodes_layer1 and 5 for hidden_nodes_layer2. These values were chosen as they seemed they most accurate after binning"
   ]
  },
  {
   "cell_type": "markdown",
   "id": "325c77d6",
   "metadata": {},
   "source": [
    "    * I was able to achieve the target model performance"
   ]
  },
  {
   "cell_type": "markdown",
   "id": "4807f6e6",
   "metadata": {},
   "source": [
    "    * In order to try and increase the model performance I modified the dataset and continued to remove and columns that I deemed not necessary."
   ]
  },
  {
   "cell_type": "markdown",
   "id": "1dbdcc8b",
   "metadata": {},
   "source": [
    "### Summary"
   ]
  },
  {
   "cell_type": "markdown",
   "id": "02e31a68",
   "metadata": {},
   "source": [
    "This neural network model would be more accurate with optimizing the model even more. Regrettably, after running the initial model in Google Colab, it seems the model kept crashing and would not complete. Regardless, with more modifying and close monitoring of how the data changes with adding more layers, this model is great at predicting the target. A different model that could also be used is a decision tree which is a simpler approach."
   ]
  }
 ],
 "metadata": {
  "kernelspec": {
   "display_name": "Python 3 (ipykernel)",
   "language": "python",
   "name": "python3"
  },
  "language_info": {
   "codemirror_mode": {
    "name": "ipython",
    "version": 3
   },
   "file_extension": ".py",
   "mimetype": "text/x-python",
   "name": "python",
   "nbconvert_exporter": "python",
   "pygments_lexer": "ipython3",
   "version": "3.10.12"
  }
 },
 "nbformat": 4,
 "nbformat_minor": 5
}
